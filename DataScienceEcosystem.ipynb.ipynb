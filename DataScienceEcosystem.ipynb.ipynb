{
 "cells": [
  {
   "cell_type": "markdown",
   "id": "9c5e64dc-2bc7-4640-9b71-877eda7b6100",
   "metadata": {},
   "source": [
    "<center>\n",
    "    <img src=\"https://cf-courses-data.s3.us.cloud-object-storage.appdomain.cloud/IBMDeveloperSkillsNetwork-DS0105EN-SkillsNetwork/labs/Module2/images/SN_web_lightmode.png\" width=\"300\" alt=\"cognitiveclass.ai logo\">\n",
    "</center>\n"
   ]
  },
  {
   "cell_type": "markdown",
   "id": "bca0d27a-24c6-4c43-b116-c73c8d9ab219",
   "metadata": {},
   "source": [
    "# Hands-on Lab: Create your Jupyter Notebook\n"
   ]
  },
  {
   "cell_type": "markdown",
   "id": "8b126e2f-912e-42e0-8d57-43862ac465fc",
   "metadata": {},
   "source": [
    "#### Add your code below following the instructions given in the course\n"
   ]
  },
  {
   "cell_type": "code",
   "execution_count": 2,
   "id": "e7ba372f-335a-4836-943b-f9cf0fa309b0",
   "metadata": {},
   "outputs": [
    {
     "name": "stdout",
     "output_type": "stream",
     "text": [
      "hola\n"
     ]
    },
    {
     "data": {
      "text/plain": [
       "{'cell_type': 'markdown',\n",
       " 'metadata': {},\n",
       " 'source': ['# Agradecimiento a IBM por el curso de Ciencia de Datos',\n",
       "  '',\n",
       "  '¡Gracias IBM por este increíble curso de Ciencia de Datos! He aprendido conceptos fundamentales que me ayudarán a crecer en este campo emocionante.',\n",
       "  '',\n",
       "  '## Conceptos básicos de Ciencia de Datos',\n",
       "  '',\n",
       "  '1. **Ciencia de Datos**: Es un campo interdisciplinario que utiliza métodos, procesos, algoritmos y sistemas para extraer conocimiento e insights de datos estructurados y no estructurados.',\n",
       "  '2. **Limpieza de Datos**: El proceso de preparar los datos para el análisis eliminando o corrigiendo datos incorrectos, incompletos o irrelevantes.',\n",
       "  '3. **Análisis Exploratorio de Datos (EDA)**: Técnicas para resumir las principales características de los datos, a menudo con visualizaciones.',\n",
       "  '4. **Modelos de Machine Learning**: Algoritmos que permiten a las computadoras aprender de los datos y hacer predicciones o tomar decisiones.',\n",
       "  '5. **Visualización de Datos**: Herramientas como Matplotlib y Seaborn que ayudan a representar los datos gráficamente para facilitar su interpretación.',\n",
       "  '',\n",
       "  '## Herramientas aprendidas',\n",
       "  '',\n",
       "  '- **Python**: Lenguaje de programación clave para la ciencia de datos.',\n",
       "  '- **Jupyter Notebook**: Entorno interactivo para escribir y ejecutar código.',\n",
       "  '- **Pandas**: Biblioteca para manipulación y análisis de datos.',\n",
       "  '- **NumPy**: Biblioteca para cálculos numéricos.',\n",
       "  '- **Matplotlib** y **Seaborn**: Bibliotecas para visualización de datos.',\n",
       "  '',\n",
       "  '¡Gracias nuevamente a IBM por esta oportunidad de aprendizaje!']}"
      ]
     },
     "execution_count": 2,
     "metadata": {},
     "output_type": "execute_result"
    }
   ],
   "source": [
    "print (\"hola\")\n",
    "{\n",
    "    \"cell_type\": \"markdown\",\n",
    "    \"metadata\": {},\n",
    "    \"source\": [\n",
    "        \"# Agradecimiento a IBM por el curso de Ciencia de Datos\",\n",
    "        \"\",\n",
    "        \"¡Gracias IBM por este increíble curso de Ciencia de Datos! He aprendido conceptos fundamentales que me ayudarán a crecer en este campo emocionante.\",\n",
    "        \"\",\n",
    "        \"## Conceptos básicos de Ciencia de Datos\",\n",
    "        \"\",\n",
    "        \"1. **Ciencia de Datos**: Es un campo interdisciplinario que utiliza métodos, procesos, algoritmos y sistemas para extraer conocimiento e insights de datos estructurados y no estructurados.\",\n",
    "        \"2. **Limpieza de Datos**: El proceso de preparar los datos para el análisis eliminando o corrigiendo datos incorrectos, incompletos o irrelevantes.\",\n",
    "        \"3. **Análisis Exploratorio de Datos (EDA)**: Técnicas para resumir las principales características de los datos, a menudo con visualizaciones.\",\n",
    "        \"4. **Modelos de Machine Learning**: Algoritmos que permiten a las computadoras aprender de los datos y hacer predicciones o tomar decisiones.\",\n",
    "        \"5. **Visualización de Datos**: Herramientas como Matplotlib y Seaborn que ayudan a representar los datos gráficamente para facilitar su interpretación.\",\n",
    "        \"\",\n",
    "        \"## Herramientas aprendidas\",\n",
    "        \"\",\n",
    "        \"- **Python**: Lenguaje de programación clave para la ciencia de datos.\",\n",
    "        \"- **Jupyter Notebook**: Entorno interactivo para escribir y ejecutar código.\",\n",
    "        \"- **Pandas**: Biblioteca para manipulación y análisis de datos.\",\n",
    "        \"- **NumPy**: Biblioteca para cálculos numéricos.\",\n",
    "        \"- **Matplotlib** y **Seaborn**: Bibliotecas para visualización de datos.\",\n",
    "        \"\",\n",
    "        \"¡Gracias nuevamente a IBM por esta oportunidad de aprendizaje!\"\n",
    "    ]\n",
    "}"
   ]
  },
  {
   "cell_type": "markdown",
   "id": "b5f467ed-efe7-45ac-a08b-b2d48c26ba81",
   "metadata": {},
   "source": [
    "Copyright ©2024 IBM Corporation. All rights reserved.\n"
   ]
  }
 ],
 "metadata": {
  "kernelspec": {
   "display_name": "Python 3",
   "language": "python",
   "name": "python3"
  },
  "language_info": {
   "codemirror_mode": {
    "name": "ipython",
    "version": 3
   },
   "file_extension": ".py",
   "mimetype": "text/x-python",
   "name": "python",
   "nbconvert_exporter": "python",
   "pygments_lexer": "ipython3",
   "version": "3.13.2"
  },
  "prev_pub_hash": "9e1985db9844176462bd1d5863048c9f3d17404bbc6a648be9084b0c42b29347"
 },
 "nbformat": 4,
 "nbformat_minor": 4
}
